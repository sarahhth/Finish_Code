{
 "cells": [
  {
   "cell_type": "code",
   "execution_count": 1,
   "id": "ca1a1773-ad4f-4445-b01a-0b09af38204d",
   "metadata": {},
   "outputs": [],
   "source": [
    "import pandas as pd"
   ]
  },
  {
   "cell_type": "code",
   "execution_count": 3,
   "id": "651b6b47-de19-47dd-b6ff-6e92bb465a7b",
   "metadata": {},
   "outputs": [],
   "source": [
    "file_path = r\"C:\\Users\\user\\Data Science\\Week 6\\Data_Mahasiswa.csv\" \n",
    "df = pd.read_csv(file_path, delimiter=\";\")"
   ]
  },
  {
   "cell_type": "code",
   "execution_count": 4,
   "id": "982ebdf8-fd3e-43d8-b775-1f73cc229a83",
   "metadata": {},
   "outputs": [],
   "source": [
    "# Contoh membuat pivot table berdasarkan jumlah mahasiswa per program studi dan angkatan\n",
    "pivot_table = pd.pivot_table(df, \n",
    "                             values=\"NIM \",  \n",
    "                             index=\"Program Studi Mahasiswa\", \n",
    "                             columns=\"Angkatan Mahasiswa\", \n",
    "                             aggfunc=\"count\",\n",
    "                             fill_value=0)"
   ]
  },
  {
   "cell_type": "code",
   "execution_count": 5,
   "id": "48f27d58-20ed-49c3-b436-fa6183ffc209",
   "metadata": {},
   "outputs": [
    {
     "name": "stdout",
     "output_type": "stream",
     "text": [
      "Angkatan Mahasiswa                                  2020  2021  2022  2023  \\\n",
      "Program Studi Mahasiswa                                                      \n",
      "DIII Teknik Komputer                                   0     0     9    18   \n",
      "DIII Teknologi Informasi                               0     0    12    12   \n",
      "S1 Informatika                                         0     0     3     6   \n",
      "S1 Sistem Informasi                                    0     0     8     2   \n",
      "S1 Teknik Elektro                                      0     0     5     8   \n",
      "Sarjana Terapan Teknologi Rekayasa Perangkat Lunak     1    12    68    90   \n",
      "\n",
      "Angkatan Mahasiswa                                  2024  \\\n",
      "Program Studi Mahasiswa                                    \n",
      "DIII Teknik Komputer                                  41   \n",
      "DIII Teknologi Informasi                              57   \n",
      "S1 Informatika                                        37   \n",
      "S1 Sistem Informasi                                   28   \n",
      "S1 Teknik Elektro                                     23   \n",
      "Sarjana Terapan Teknologi Rekayasa Perangkat Lunak    65   \n",
      "\n",
      "Angkatan Mahasiswa                                  Sarjana Terapan Teknologi Rekayasa Perangkat Lunak  \n",
      "Program Studi Mahasiswa                                                                                 \n",
      "DIII Teknik Komputer                                                                                0   \n",
      "DIII Teknologi Informasi                                                                            0   \n",
      "S1 Informatika                                                                                      0   \n",
      "S1 Sistem Informasi                                                                                 0   \n",
      "S1 Teknik Elektro                                                                                   0   \n",
      "Sarjana Terapan Teknologi Rekayasa Perangkat Lunak                                                  1   \n"
     ]
    }
   ],
   "source": [
    "# Tampilkan pivot table\n",
    "print(pivot_table)"
   ]
  }
 ],
 "metadata": {
  "kernelspec": {
   "display_name": "Python 3 (ipykernel)",
   "language": "python",
   "name": "python3"
  },
  "language_info": {
   "codemirror_mode": {
    "name": "ipython",
    "version": 3
   },
   "file_extension": ".py",
   "mimetype": "text/x-python",
   "name": "python",
   "nbconvert_exporter": "python",
   "pygments_lexer": "ipython3",
   "version": "3.12.4"
  }
 },
 "nbformat": 4,
 "nbformat_minor": 5
}
