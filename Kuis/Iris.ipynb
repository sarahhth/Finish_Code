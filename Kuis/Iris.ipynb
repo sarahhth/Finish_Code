{
 "cells": [
  {
   "cell_type": "code",
   "execution_count": 1,
   "id": "82eeb01b-7cdd-400c-b0e0-64884b5b14fd",
   "metadata": {},
   "outputs": [],
   "source": [
    "import pandas as pd"
   ]
  },
  {
   "cell_type": "code",
   "execution_count": 9,
   "id": "560456cf-b73a-42ca-a43d-c14806df9b5e",
   "metadata": {},
   "outputs": [],
   "source": [
    "# Memuat dataset\n",
    "data = pd.read_csv('IrisDataset.csv', sep=';') "
   ]
  },
  {
   "cell_type": "code",
   "execution_count": 10,
   "id": "90c8a81a-dbaa-4e2a-a432-099b94d0b147",
   "metadata": {},
   "outputs": [],
   "source": [
    "pivot_table = pd.pivot_table(data, \n",
    "                             values=['sepal_length', 'sepal_width', 'petal_length', 'petal_width'], \n",
    "                             index='species', \n",
    "                             aggfunc='mean')"
   ]
  },
  {
   "cell_type": "code",
   "execution_count": 11,
   "id": "e7ed785f-195e-4cd6-8832-da3f2093e003",
   "metadata": {},
   "outputs": [
    {
     "name": "stdout",
     "output_type": "stream",
     "text": [
      "            petal_length  petal_width  sepal_length  sepal_width\n",
      "species                                                         \n",
      "setosa             1.462        0.246         5.006        3.428\n",
      "versicolor         4.260        1.326         5.936        2.770\n",
      "virginica          5.552        2.026         6.588        2.974\n"
     ]
    }
   ],
   "source": [
    "# Menampilkan pivot table\n",
    "print(pivot_table)"
   ]
  }
 ],
 "metadata": {
  "kernelspec": {
   "display_name": "Python 3 (ipykernel)",
   "language": "python",
   "name": "python3"
  },
  "language_info": {
   "codemirror_mode": {
    "name": "ipython",
    "version": 3
   },
   "file_extension": ".py",
   "mimetype": "text/x-python",
   "name": "python",
   "nbconvert_exporter": "python",
   "pygments_lexer": "ipython3",
   "version": "3.12.4"
  }
 },
 "nbformat": 4,
 "nbformat_minor": 5
}
